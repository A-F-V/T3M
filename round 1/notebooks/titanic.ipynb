{
 "cells": [
  {
   "cell_type": "markdown",
   "metadata": {},
   "source": [
    "# Titanic: Machine Learning from Disaster\n",
    "---\n"
   ]
  },
  {
   "cell_type": "markdown",
   "metadata": {},
   "source": [
    "## Frame the problem\n",
    "---\n",
    "### Background\n",
    "---\n",
    "From the kaggle challenge page:\n",
    "> The sinking of the Titanic is one of the most infamous shipwrecks in history.\n",
    ">\n",
    "> On April 15, 1912, during her maiden voyage, the widely considered “unsinkable” RMS Titanic sank after colliding with an iceberg. Unfortunately, there weren’t enough lifeboats for everyone onboard, resulting in the death of 1502 out of 2224 passengers and crew.\n",
    ">\n",
    ">While there was some element of luck involved in surviving, it seems some groups of people were more likely to survive than others.\n",
    "\n",
    "\n",
    ">In this challenge, we ask you to build a predictive model that answers the question: “what sorts of people were more likely to survive?” using passenger data (ie name, age, gender, socio-economic class, etc).\n",
    "\n",
    "### Dataset\n",
    "---\n",
    "Below is a table containing the contents of the dataset named `train.csv`:\n",
    "\n",
    "| Variable  | Definition                                 \t| Key                                            \t|\n",
    "|-----------|:----------------------------------------------|:--------------------------------------------------|\n",
    "| Survived  | Survival                                   \t| 0 = No, 1 = Yes                                \t|\n",
    "| Pclass   \t| Ticket class                               \t| 1 = 1st, 2 = 2nd, 3 = 3rd                      \t|\n",
    "| Sex      \t| Sex                                        \t|                                                \t|\n",
    "| Age      \t| Age in years                               \t|                                                \t|\n",
    "| SibSp    \t| # of siblings / spouses aboard the Titanic \t|                                                \t|\n",
    "| Parch    \t| # of parents / children aboard the Titanic \t|                                                \t|\n",
    "| Ticket   \t| Ticket number                              \t|                                                \t|\n",
    "| Fare     \t| Passenger fare                             \t|                                                \t|\n",
    "| Cabin    \t| Cabin number                               \t|                                                \t|\n",
    "| Embarked \t| Port of Embarkation                        \t| C = Cherbourg, Q = Queenstown, S = Southampton \t|"
   ]
  },
  {
   "cell_type": "markdown",
   "metadata": {},
   "source": [
    "## Set-up\n",
    "---\n",
    "Here, we set up all the paths and libraries used in the program"
   ]
  },
  {
   "cell_type": "code",
   "execution_count": 4,
   "metadata": {},
   "outputs": [],
   "source": [
    "import os,sys\n",
    "\n",
    "globalT3Mbin = os.path.abspath(os.path.join(os.getcwd(),'..','..','bin'))\n",
    "round1bin = os.path.abspath(os.path.join(os.getcwd(),'..','bin'))\n",
    "if not (globalT3Mbin in sys.path):\n",
    "    sys.path.append(globalT3Mbin)\n",
    "if not (round1bin in sys.path):\n",
    "    sys.path.append(round1bin)\n",
    "\n",
    "import numpy as np\n",
    "import pandas as pd\n",
    "from utiltiies import splitter"
   ]
  },
  {
   "cell_type": "code",
   "execution_count": 2,
   "metadata": {
    "tags": []
   },
   "outputs": [],
   "source": [
    "from pathlib import Path\n",
    "data_folder_path = Path(\"../data\")\n",
    "training_set_path = data_folder_path / \"train.csv\"\n"
   ]
  },
  {
   "cell_type": "markdown",
   "metadata": {},
   "source": [
    "## Gather Data\n",
    "---\n"
   ]
  },
  {
   "cell_type": "code",
   "execution_count": 15,
   "metadata": {
    "tags": []
   },
   "outputs": [
    {
     "output_type": "stream",
     "name": "stdout",
     "text": "The names of the features are - ['PassengerId' 'Survived' 'Pclass' 'Name' 'Sex' 'Age' 'SibSp' 'Parch'\n 'Ticket' 'Fare' 'Cabin' 'Embarked']\n"
    }
   ],
   "source": [
    "data_set = pd.read_csv(training_set_path)\n",
    "feature_names = data_set.columns.values\n",
    "label_names = ['Survived']\n",
    "print(\"The names of the features are - \" +str(feature_names))\n",
    "\n"
   ]
  },
  {
   "cell_type": "code",
   "execution_count": 19,
   "metadata": {
    "tags": []
   },
   "outputs": [
    {
     "output_type": "stream",
     "name": "stdout",
     "text": "59\n"
    },
    {
     "output_type": "execute_result",
     "data": {
      "text/plain": "1"
     },
     "metadata": {},
     "execution_count": 19
    }
   ],
   "source": [
    "training_set, validation_set, test_set = splitter.split_tvt_set(data_set,[3,1,1])\n",
    "training_set_X, training_set_Y = splitter.split_from_labels(training_set,label_names)\n",
    "validation_sett_X, validation_set_Y = splitter.split_from_labels(validation_set,label_names)\n",
    "test_set_X, test_set_Y = splitter.split_from_labels(test_set,label_names)"
   ]
  },
  {
   "cell_type": "code",
   "execution_count": null,
   "metadata": {},
   "outputs": [],
   "source": []
  }
 ],
 "metadata": {
  "language_info": {
   "codemirror_mode": {
    "name": "ipython",
    "version": 3
   },
   "file_extension": ".py",
   "mimetype": "text/x-python",
   "name": "python",
   "nbconvert_exporter": "python",
   "pygments_lexer": "ipython3",
   "version": "3.6.9-final"
  },
  "orig_nbformat": 2,
  "kernelspec": {
   "name": "python36964bitenvvenv2373ea56bef846d2b38873f566d5e42b",
   "display_name": "Python 3.6.9 64-bit ('env': venv)"
  }
 },
 "nbformat": 4,
 "nbformat_minor": 2
}