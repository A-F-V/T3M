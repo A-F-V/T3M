{
 "cells": [
  {
   "cell_type": "markdown",
   "metadata": {},
   "source": [
    "# Ideas"
   ]
  },
  {
   "cell_type": "markdown",
   "metadata": {
    "tags": []
   },
   "source": [
    "---\n",
    "## Possible Datasets:\n",
    "\n",
    "Alessandro:\n",
    "- .\n",
    "- .\n",
    "\n",
    "Navonil:\n",
    "- .\n",
    "- .\n",
    "\n",
    "Yang:\n",
    "- DALE-UK dataset:\n",
    "https://ukerc.rl.ac.uk/DC/cgi-bin/edc_search.pl/?WantComp=138\n",
    "\n",
    "- London traffic flow dataset:\n",
    "https://data.london.gov.uk/dataset/traffic-flows-borough\n",
    "\n",
    "- Dataset of images to train learning algorithms (Canadian Institute for Advanced Research):\n",
    "https://www.cs.toronto.edu/~kriz/cifar.html\n",
    "\n",
    "- These are project ideas, many of which contain datasets as part of their proposal:\n",
    "<br>\n",
    "    1) CS ML project course: http://cs229.stanford.edu/proj2019spr/\n",
    "<br>\n",
    "    2) Data science project course: https://github.com/TZstatsADS\n",
    "<br>\n",
    "    3) https://data-flair.training/blogs/data-science-project-ideas/\n",
    "\n"
   ]
  },
  {
   "cell_type": "code",
   "execution_count": null,
   "metadata": {},
   "outputs": [],
   "source": []
  }
 ],
 "metadata": {
  "kernelspec": {
   "display_name": "env",
   "language": "python",
   "name": "env"
  },
  "language_info": {
   "codemirror_mode": {
    "name": "ipython",
    "version": 3
   },
   "file_extension": ".py",
   "mimetype": "text/x-python",
   "name": "python",
   "nbconvert_exporter": "python",
   "pygments_lexer": "ipython3",
   "version": "3.6.9-final"
  }
 },
 "nbformat": 4,
 "nbformat_minor": 4
}