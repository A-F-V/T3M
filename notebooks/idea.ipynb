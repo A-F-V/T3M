{
 "cells": [
  {
   "cell_type": "markdown",
   "metadata": {},
   "source": [
    "# Ideas"
   ]
  },
  {
   "cell_type": "markdown",
   "metadata": {
    "tags": []
   },
   "source": [
    "---\n",
    "## Possible Datasets:\n",
    "\n",
    "Alessandro:\n",
    "- *Age Detection*\n",
    "- *Colour Scheme Generator* (Gives score to existing colour schemes, generates purely random colour scheme from scratch or from a starting colour). Also gives names to colour scheme.\n",
    "- _(similiar, and possibly in addition, to above)_ *Mood-board generator*\n",
    "- *Genetic algorithm that learns how to play 2048*\n",
    "- *Cryptocurrency predictor* - predicts the success and failures of crypto currencies (could be extended to a stock market predictor)\n",
    "- *Illegal fishing detector* - https://globalfishingwatch.org/map-and-data/\n",
    "- *Text summarizer*\n",
    "- *Body posture evaluator*\n",
    "- *Black and White image colourer*\n",
    "- *Film and TV Spoiler Blocker*\n",
    "- *Bully/Troll detection on social media*\n",
    "- *Diet from local food learning*\n",
    "Useful datasets https://data-flair.training/blogs/machine-learning-datasets/\n",
    "\n",
    "\n",
    "Navonil:\n",
    "- .\n",
    "- .\n",
    "\n",
    "Yang:\n",
    "- UK Domestic Appliance Level Electricity dataset:\n",
    "https://ukerc.rl.ac.uk/DC/cgi-bin/edc_search.pl/?WantComp=138\n",
    "\n",
    "- London traffic flow dataset:\n",
    "https://data.london.gov.uk/dataset/traffic-flows-borough\n",
    "\n",
    "- Dataset of images to train learning algorithms (Canadian Institute for Advanced Research):\n",
    "https://www.cs.toronto.edu/~kriz/cifar.html\n",
    "\n",
    "- These are project ideas, many of which contain datasets as part of their proposal:\n",
    "<br>\n",
    "    1) CS ML project course: http://cs229.stanford.edu/proj2019spr/\n",
    "<br>\n",
    "    2) Data science project course: https://github.com/TZstatsADS\n",
    "<br>\n",
    "    3) https://data-flair.training/blogs/data-science-project-ideas/\n",
    "\n"
   ]
  },
  {
   "cell_type": "code",
   "execution_count": null,
   "metadata": {},
   "outputs": [],
   "source": []
  }
 ],
 "metadata": {
  "kernelspec": {
   "display_name": "env",
   "language": "python",
   "name": "env"
  },
  "language_info": {
   "codemirror_mode": {
    "name": "ipython",
    "version": 3
   },
   "file_extension": ".py",
   "mimetype": "text/x-python",
   "name": "python",
   "nbconvert_exporter": "python",
   "pygments_lexer": "ipython3",
   "version": "3.6.9-final"
  }
 },
 "nbformat": 4,
 "nbformat_minor": 4
}